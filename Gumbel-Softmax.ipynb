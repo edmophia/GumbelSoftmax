{
 "cells": [
  {
   "cell_type": "markdown",
   "metadata": {},
   "source": [
    "# 1. Imports and Helper Functions"
   ]
  },
  {
   "cell_type": "code",
   "execution_count": 1,
   "metadata": {},
   "outputs": [
    {
     "name": "stderr",
     "output_type": "stream",
     "text": [
      "/home/sungyub/.conda/envs/pytorch/lib/python3.6/site-packages/h5py/__init__.py:34: FutureWarning: Conversion of the second argument of issubdtype from `float` to `np.floating` is deprecated. In future, it will be treated as `np.float64 == np.dtype(float).type`.\n",
      "  from ._conv import register_converters as _register_converters\n"
     ]
    }
   ],
   "source": [
    "from __future__ import print_function\n",
    "import torch\n",
    "import torch.nn as nn\n",
    "import torch.nn.functional as F\n",
    "from torch.autograd import Variable\n",
    "from tensorflow.examples.tutorials.mnist import input_data\n",
    "import numpy as np\n",
    "import matplotlib.pyplot as plt\n",
    "import seaborn as sns\n",
    "sns.set()\n",
    "from pylab import rcParams\n",
    "import skvideo.io\n",
    "import io\n",
    "import base64\n",
    "from IPython.display import HTML\n",
    "rcParams['figure.figsize'] = 20, 20"
   ]
  },
  {
   "cell_type": "code",
   "execution_count": 2,
   "metadata": {},
   "outputs": [],
   "source": [
    "def sample_gumbel(shape, eps=1e-20):\n",
    "    U = torch.rand(shape)\n",
    "    return -Variable(torch.log(-torch.log(U + eps) + eps)).cuda()\n",
    "\n",
    "def gumbel_softmax_sample(logits, temperature):\n",
    "    y = logits + sample_gumbel(logits.size())\n",
    "    return F.softmax(y / temperature, dim=-1)\n",
    "\n",
    "def gumbel_softmax(logits, temperature):\n",
    "    \"\"\"\n",
    "    input: [*, n_class]\n",
    "    return: [*, n_class] an one-hot vector\n",
    "    \"\"\"\n",
    "    y = gumbel_softmax_sample(logits, temperature)\n",
    "    shape = y.size()\n",
    "    _, ind = y.max(dim=-1)\n",
    "    y_hard = torch.zeros_like(y).view(-1, shape[-1])\n",
    "    y_hard.scatter_(1, ind.view(-1, 1), 1)\n",
    "    y_hard = y_hard.view(*shape)\n",
    "    return (y_hard - y).detach() + y"
   ]
  },
  {
   "cell_type": "markdown",
   "metadata": {},
   "source": [
    "# 2. Build Model"
   ]
  },
  {
   "cell_type": "code",
   "execution_count": 3,
   "metadata": {
    "collapsed": true
   },
   "outputs": [],
   "source": [
    "K = 10 # num of classes\n",
    "N= 30 # num of categorical distributions"
   ]
  },
  {
   "cell_type": "code",
   "execution_count": 4,
   "metadata": {
    "collapsed": true
   },
   "outputs": [],
   "source": [
    "hidden_size = 30\n",
    "\n",
    "class en_Net(nn.Module):\n",
    "    def __init__(self, ):\n",
    "        super(en_Net, self).__init__()\n",
    "        self.en1 = nn.Linear(784, 512)\n",
    "        self.en1.weight.data.normal_(0, 0.1)   # initialization\n",
    "        self.en2 = nn.Linear(512, 256)\n",
    "        self.en2.weight.data.normal_(0, 0.1)   # initialization\n",
    "        self.en3 = nn.Linear(256, K*N)\n",
    "        self.en3.weight.data.normal_(0, 0.1)   # initialization\n",
    "\n",
    "    def forward(self, x):\n",
    "        x = F.relu(self.en1(x))\n",
    "        x = F.relu(self.en2(x))\n",
    "        logits_y = self.en3(x)\n",
    "        logits_y = logits_y.view(-1, K)\n",
    "        q_y = F.softmax(logits_y)\n",
    "            \n",
    "        return logits_y, q_y\n",
    "    \n",
    "class de_Net(nn.Module):\n",
    "    def __init__(self, ):\n",
    "        super(de_Net, self).__init__()\n",
    "        self.tau = nn.Linear(K, 1)\n",
    "        self.tau.weight.data.normal_(0, 0.1)\n",
    "#         self.tau = Variable(torch.FloatTensor([.1])).cuda()\n",
    "        self.de1 = nn.Linear(K*N, 256)\n",
    "        self.de1.weight.data.normal_(0, 0.1)\n",
    "        self.de2 = nn.Linear(256, 512)\n",
    "        self.de2.weight.data.normal_(0, 0.1)\n",
    "        self.de3 = nn.Linear(512, 784)\n",
    "        self.de3.weight.data.normal_(0, 0.1)\n",
    "        \n",
    "    def forward(self, logits_y):\n",
    "        t = F.sigmoid(self.tau(logits_y.view(-1,K)))\n",
    "        y = gumbel_softmax(logits_y, t).view(-1,N*K)\n",
    "        y = F.relu(self.de1(y))\n",
    "        y = F.relu(self.de2(y))\n",
    "        logits_x = self.de3(y)\n",
    "        \n",
    "        return logits_x"
   ]
  },
  {
   "cell_type": "code",
   "execution_count": 5,
   "metadata": {
    "collapsed": true
   },
   "outputs": [],
   "source": [
    "en = en_Net().cuda()\n",
    "de = de_Net().cuda()\n",
    "en_opt = torch.optim.Adam(en.parameters(),lr=1e-3)\n",
    "de_opt = torch.optim.Adam(de.parameters(),lr=1e-3)"
   ]
  },
  {
   "cell_type": "code",
   "execution_count": 6,
   "metadata": {
    "collapsed": true
   },
   "outputs": [],
   "source": [
    "NUM_ITERS = 10**4\n",
    "BATCH_SIZE = 100"
   ]
  },
  {
   "cell_type": "code",
   "execution_count": 7,
   "metadata": {
    "scrolled": true
   },
   "outputs": [
    {
     "name": "stdout",
     "output_type": "stream",
     "text": [
      "WARNING:tensorflow:From <ipython-input-7-b3d0adba6f9a>:2: read_data_sets (from tensorflow.contrib.learn.python.learn.datasets.mnist) is deprecated and will be removed in a future version.\n",
      "Instructions for updating:\n",
      "Please use alternatives such as official/mnist/dataset.py from tensorflow/models.\n",
      "WARNING:tensorflow:From /home/sungyub/.conda/envs/pytorch/lib/python3.6/site-packages/tensorflow/contrib/learn/python/learn/datasets/mnist.py:260: maybe_download (from tensorflow.contrib.learn.python.learn.datasets.base) is deprecated and will be removed in a future version.\n",
      "Instructions for updating:\n",
      "Please write your own downloading logic.\n",
      "WARNING:tensorflow:From /home/sungyub/.conda/envs/pytorch/lib/python3.6/site-packages/tensorflow/contrib/learn/python/learn/datasets/mnist.py:262: extract_images (from tensorflow.contrib.learn.python.learn.datasets.mnist) is deprecated and will be removed in a future version.\n",
      "Instructions for updating:\n",
      "Please use tf.data to implement this functionality.\n",
      "Extracting /tmp/train-images-idx3-ubyte.gz\n",
      "WARNING:tensorflow:From /home/sungyub/.conda/envs/pytorch/lib/python3.6/site-packages/tensorflow/contrib/learn/python/learn/datasets/mnist.py:267: extract_labels (from tensorflow.contrib.learn.python.learn.datasets.mnist) is deprecated and will be removed in a future version.\n",
      "Instructions for updating:\n",
      "Please use tf.data to implement this functionality.\n",
      "Extracting /tmp/train-labels-idx1-ubyte.gz\n",
      "WARNING:tensorflow:From /home/sungyub/.conda/envs/pytorch/lib/python3.6/site-packages/tensorflow/contrib/learn/python/learn/datasets/mnist.py:110: dense_to_one_hot (from tensorflow.contrib.learn.python.learn.datasets.mnist) is deprecated and will be removed in a future version.\n",
      "Instructions for updating:\n",
      "Please use tf.one_hot on tensors.\n",
      "Extracting /tmp/t10k-images-idx3-ubyte.gz\n",
      "Extracting /tmp/t10k-labels-idx1-ubyte.gz\n",
      "WARNING:tensorflow:From /home/sungyub/.conda/envs/pytorch/lib/python3.6/site-packages/tensorflow/contrib/learn/python/learn/datasets/mnist.py:290: DataSet.__init__ (from tensorflow.contrib.learn.python.learn.datasets.mnist) is deprecated and will be removed in a future version.\n",
      "Instructions for updating:\n",
      "Please use alternatives such as official/mnist/dataset.py from tensorflow/models.\n"
     ]
    }
   ],
   "source": [
    "# get data\n",
    "data = input_data.read_data_sets('/tmp/', one_hot=True).train"
   ]
  },
  {
   "cell_type": "code",
   "execution_count": 8,
   "metadata": {
    "scrolled": true
   },
   "outputs": [
    {
     "name": "stderr",
     "output_type": "stream",
     "text": [
      "/home/sungyub/.conda/envs/pytorch/lib/python3.6/site-packages/ipykernel_launcher.py:18: UserWarning: Implicit dimension choice for softmax has been deprecated. Change the call to include dim=X as an argument.\n",
      "/home/sungyub/.conda/envs/pytorch/lib/python3.6/site-packages/ipykernel_launcher.py:34: DeprecationWarning: The binary mode of fromstring is deprecated, as it behaves surprisingly on unicode inputs. Use frombuffer instead\n"
     ]
    }
   ],
   "source": [
    "video_path = './result_Gumbel_tau_learn.mp4'\n",
    "writer = skvideo.io.FFmpegWriter(video_path)\n",
    "losses = list()\n",
    "\n",
    "for i in range(NUM_ITERS):\n",
    "    np_x, np_y = data.next_batch(BATCH_SIZE)\n",
    "    np_x = Variable(torch.FloatTensor(np_x)).cuda()\n",
    "    logits_y, q_y = en(np_x)\n",
    "    logits_x = de(logits_y)\n",
    "    \n",
    "    bce_loss = F.binary_cross_entropy_with_logits(logits_x ,np_x ,size_average=False)\n",
    "    kl_reg = F.kl_div(q_y, -torch.log(torch.FloatTensor([1.0/K]).cuda())*torch.ones_like(q_y), size_average=False)\n",
    "    elbo = -bce_loss - kl_reg\n",
    "    loss = -elbo.mean()\n",
    "    l = loss.cpu().item()\n",
    "    losses.append(l)\n",
    "    \n",
    "    if (i%100)==0:\n",
    "        # make figure\n",
    "        fig = plt.figure()\n",
    "        x_img = F.sigmoid(logits_x.data).view(10,10,28,28)\n",
    "        # split into 10 (1,10,28,28) images, concat along columns -> 1,10,28,280\n",
    "        x_img = np.concatenate(np.split(x_img,10,axis=0),axis=3)\n",
    "        # split into 10 (1,1,28,280) images, concat along rows -> 1,1,280,280\n",
    "        x_img = np.concatenate(np.split(x_img,10,axis=1),axis=2)\n",
    "        x_img = np.squeeze(x_img)\n",
    "        plt.imshow(x_img)\n",
    "        \n",
    "        plt.title(str(i)+' th loss :'+ str(l))\n",
    "        fig.canvas.draw()\n",
    "\n",
    "        # Get the RGBA buffer from the figure\n",
    "        w,h = fig.canvas.get_width_height()\n",
    "        buf = np.fromstring(fig.canvas.tostring_argb(), dtype=np.uint8)\n",
    "        buf.shape = (h, w, 4)\n",
    "        plot = buf[:, :, 1:]\n",
    "#         plt.show()\n",
    "        plt.close()\n",
    "        outputframe = np.zeros((h, w, 3))\n",
    "        outputframe[:, :] = plot\n",
    "        writer.writeFrame(outputframe)\n",
    "        \n",
    "#         x_img = F.sigmoid(logits_x.data).view(10,10,28,28)\n",
    "#         # split into 10 (1,10,28,28) images, concat along columns -> 1,10,28,280\n",
    "#         x_img = np.concatenate(np.split(x_img,10,axis=0),axis=3)\n",
    "#         # split into 10 (1,1,28,280) images, concat along rows -> 1,1,280,280\n",
    "#         x_img = np.concatenate(np.split(x_img,10,axis=1),axis=2)\n",
    "#         x_img = np.squeeze(x_img)\n",
    "#         plt.imshow(x_img)\n",
    "#         plt.show()\n",
    "#         print(loss.data)\n",
    "    \n",
    "    en_opt.zero_grad()\n",
    "    de_opt.zero_grad()\n",
    "    loss.backward()\n",
    "    en_opt.step()\n",
    "    de_opt.step()\n",
    "    \n",
    "writer.close()"
   ]
  },
  {
   "cell_type": "code",
   "execution_count": 9,
   "metadata": {},
   "outputs": [
    {
     "name": "stderr",
     "output_type": "stream",
     "text": [
      "IOPub data rate exceeded.\n",
      "The notebook server will temporarily stop sending output\n",
      "to the client in order to avoid crashing it.\n",
      "To change this limit, set the config variable\n",
      "`--NotebookApp.iopub_data_rate_limit`.\n"
     ]
    }
   ],
   "source": [
    "video = io.open('./result_Gumbel_tau_learn.mp4', 'r+b').read()\n",
    "encoded = base64.b64encode(video)\n",
    "HTML(data='''<video alt=\"test\" controls>\n",
    "                <source src=\"data:video/mp4;base64,{0}\" type=\"video/mp4\" />\n",
    "             </video>'''.format(encoded.decode('ascii')))"
   ]
  },
  {
   "cell_type": "code",
   "execution_count": 10,
   "metadata": {},
   "outputs": [
    {
     "data": {
      "image/png": "[encoded data removed]",
      "text/plain": [
       "<matplotlib.figure.Figure at 0x7f7e2dcea358>"
      ]
     },
     "metadata": {},
     "output_type": "display_data"
    }
   ],
   "source": [
    "plt.plot(range(len(losses)), losses)\n",
    "plt.show()"
   ]
  }
 ],
 "metadata": {
  "kernelspec": {
   "display_name": "Python 3",
   "language": "python",
   "name": "python3"
  },
  "language_info": {
   "codemirror_mode": {
    "name": "ipython",
    "version": 3
   },
   "file_extension": ".py",
   "mimetype": "text/x-python",
   "name": "python",
   "nbconvert_exporter": "python",
   "pygments_lexer": "ipython3",
   "version": "3.6.3"
  }
 },
 "nbformat": 4,
 "nbformat_minor": 2
}
